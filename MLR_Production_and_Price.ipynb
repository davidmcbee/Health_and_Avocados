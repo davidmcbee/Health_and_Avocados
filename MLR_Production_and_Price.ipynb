{
 "cells": [
  {
   "cell_type": "markdown",
   "metadata": {},
   "source": [
    "### (Multiple) Linear Regression for avocado prices in selected US cities\n",
    "\n",
    "**production in California(US), Mexico, Peru, Colombia, Chile** (=feature or X-variable/independent variables)\n",
    "\n",
    "**avocado prices** (=target or y-variable/dependent variable).\n"
   ]
  },
  {
   "cell_type": "code",
   "execution_count": 1,
   "metadata": {},
   "outputs": [],
   "source": [
    "# Import dependencies.\n",
    "import pandas as pd\n",
    "from pathlib import Path\n",
    "import matplotlib.pyplot as plt\n",
    "from sklearn.linear_model import LinearRegression"
   ]
  },
  {
   "cell_type": "code",
   "execution_count": 2,
   "metadata": {},
   "outputs": [
    {
     "data": {
      "text/html": [
       "<div>\n",
       "<style scoped>\n",
       "    .dataframe tbody tr th:only-of-type {\n",
       "        vertical-align: middle;\n",
       "    }\n",
       "\n",
       "    .dataframe tbody tr th {\n",
       "        vertical-align: top;\n",
       "    }\n",
       "\n",
       "    .dataframe thead th {\n",
       "        text-align: right;\n",
       "    }\n",
       "</style>\n",
       "<table border=\"1\" class=\"dataframe\">\n",
       "  <thead>\n",
       "    <tr style=\"text-align: right;\">\n",
       "      <th></th>\n",
       "      <th>year_month</th>\n",
       "      <th>date</th>\n",
       "      <th>status</th>\n",
       "      <th>total_volume</th>\n",
       "      <th>california</th>\n",
       "      <th>chile</th>\n",
       "      <th>mexico</th>\n",
       "      <th>peru</th>\n",
       "      <th>columbia</th>\n",
       "      <th>price_LA</th>\n",
       "      <th>price_SD</th>\n",
       "      <th>price_SF</th>\n",
       "      <th>price_SAC</th>\n",
       "      <th>price_LA_organic</th>\n",
       "      <th>price_SD_organic</th>\n",
       "      <th>price_SF_organic</th>\n",
       "      <th>price_SAC_organic</th>\n",
       "    </tr>\n",
       "  </thead>\n",
       "  <tbody>\n",
       "    <tr>\n",
       "      <th>0</th>\n",
       "      <td>1/1/2018</td>\n",
       "      <td>1/7/2018</td>\n",
       "      <td>actual</td>\n",
       "      <td>45670156</td>\n",
       "      <td>899349</td>\n",
       "      <td>519433</td>\n",
       "      <td>44251374</td>\n",
       "      <td>0</td>\n",
       "      <td>0</td>\n",
       "      <td>0.88</td>\n",
       "      <td>0.98</td>\n",
       "      <td>0.92</td>\n",
       "      <td>1.03</td>\n",
       "      <td>1.74</td>\n",
       "      <td>2.00</td>\n",
       "      <td>1.52</td>\n",
       "      <td>1.61</td>\n",
       "    </tr>\n",
       "    <tr>\n",
       "      <th>1</th>\n",
       "      <td>1/1/2018</td>\n",
       "      <td>1/14/2018</td>\n",
       "      <td>actual</td>\n",
       "      <td>52758905</td>\n",
       "      <td>830821</td>\n",
       "      <td>449003</td>\n",
       "      <td>51479081</td>\n",
       "      <td>0</td>\n",
       "      <td>0</td>\n",
       "      <td>1.04</td>\n",
       "      <td>1.18</td>\n",
       "      <td>1.46</td>\n",
       "      <td>1.35</td>\n",
       "      <td>1.80</td>\n",
       "      <td>2.06</td>\n",
       "      <td>2.30</td>\n",
       "      <td>2.18</td>\n",
       "    </tr>\n",
       "    <tr>\n",
       "      <th>2</th>\n",
       "      <td>1/1/2018</td>\n",
       "      <td>1/21/2018</td>\n",
       "      <td>actual</td>\n",
       "      <td>54698266</td>\n",
       "      <td>2913663</td>\n",
       "      <td>445127</td>\n",
       "      <td>51339476</td>\n",
       "      <td>0</td>\n",
       "      <td>0</td>\n",
       "      <td>1.28</td>\n",
       "      <td>1.41</td>\n",
       "      <td>1.21</td>\n",
       "      <td>1.31</td>\n",
       "      <td>1.68</td>\n",
       "      <td>1.81</td>\n",
       "      <td>1.32</td>\n",
       "      <td>1.60</td>\n",
       "    </tr>\n",
       "    <tr>\n",
       "      <th>3</th>\n",
       "      <td>1/1/2018</td>\n",
       "      <td>1/28/2018</td>\n",
       "      <td>actual</td>\n",
       "      <td>45299201</td>\n",
       "      <td>2698356</td>\n",
       "      <td>95491</td>\n",
       "      <td>42505354</td>\n",
       "      <td>0</td>\n",
       "      <td>0</td>\n",
       "      <td>1.15</td>\n",
       "      <td>1.26</td>\n",
       "      <td>1.01</td>\n",
       "      <td>1.15</td>\n",
       "      <td>1.75</td>\n",
       "      <td>1.95</td>\n",
       "      <td>1.36</td>\n",
       "      <td>1.62</td>\n",
       "    </tr>\n",
       "    <tr>\n",
       "      <th>4</th>\n",
       "      <td>2/1/2018</td>\n",
       "      <td>2/4/2018</td>\n",
       "      <td>actual</td>\n",
       "      <td>47371481</td>\n",
       "      <td>2635471</td>\n",
       "      <td>0</td>\n",
       "      <td>44736010</td>\n",
       "      <td>0</td>\n",
       "      <td>0</td>\n",
       "      <td>1.08</td>\n",
       "      <td>1.07</td>\n",
       "      <td>1.38</td>\n",
       "      <td>1.32</td>\n",
       "      <td>1.73</td>\n",
       "      <td>1.91</td>\n",
       "      <td>2.27</td>\n",
       "      <td>1.99</td>\n",
       "    </tr>\n",
       "  </tbody>\n",
       "</table>\n",
       "</div>"
      ],
      "text/plain": [
       "  year_month       date  status  total_volume  california   chile    mexico  \\\n",
       "0   1/1/2018   1/7/2018  actual      45670156      899349  519433  44251374   \n",
       "1   1/1/2018  1/14/2018  actual      52758905      830821  449003  51479081   \n",
       "2   1/1/2018  1/21/2018  actual      54698266     2913663  445127  51339476   \n",
       "3   1/1/2018  1/28/2018  actual      45299201     2698356   95491  42505354   \n",
       "4   2/1/2018   2/4/2018  actual      47371481     2635471       0  44736010   \n",
       "\n",
       "   peru  columbia  price_LA  price_SD  price_SF  price_SAC  price_LA_organic  \\\n",
       "0     0         0      0.88      0.98      0.92       1.03              1.74   \n",
       "1     0         0      1.04      1.18      1.46       1.35              1.80   \n",
       "2     0         0      1.28      1.41      1.21       1.31              1.68   \n",
       "3     0         0      1.15      1.26      1.01       1.15              1.75   \n",
       "4     0         0      1.08      1.07      1.38       1.32              1.73   \n",
       "\n",
       "   price_SD_organic  price_SF_organic  price_SAC_organic  \n",
       "0              2.00              1.52               1.61  \n",
       "1              2.06              2.30               2.18  \n",
       "2              1.81              1.32               1.60  \n",
       "3              1.95              1.36               1.62  \n",
       "4              1.91              2.27               1.99  "
      ]
     },
     "execution_count": 2,
     "metadata": {},
     "output_type": "execute_result"
    }
   ],
   "source": [
    "# Read in CSV file.\n",
    "pp_df = pd.read_csv(Path('./MOCK_datasets/MLR_Production_Price.csv'))\n",
    "pp_df.head()"
   ]
  },
  {
   "cell_type": "code",
   "execution_count": 3,
   "metadata": {},
   "outputs": [
    {
     "data": {
      "image/png": "[encoded data removed]",
      "text/plain": [
       "<Figure size 432x288 with 1 Axes>"
      ]
     },
     "metadata": {
      "needs_background": "light"
     },
     "output_type": "display_data"
    }
   ],
   "source": [
    "# Visually inspect the relationship between Total Volume Produced and Price in selected city.\n",
    "plt.scatter(pp_df.total_volume, pp_df.price_LA)\n",
    "plt.xlabel('total_volume')\n",
    "plt.ylabel('price_LA')\n",
    "plt.show()"
   ]
  },
  {
   "cell_type": "code",
   "execution_count": 4,
   "metadata": {},
   "outputs": [],
   "source": [
    "# Formats the data to meet the requirements of the Scikit-learn library.\n",
    "X = pp_df.total_volume.values.reshape(-1, 1)"
   ]
  },
  {
   "cell_type": "code",
   "execution_count": 5,
   "metadata": {},
   "outputs": [
    {
     "data": {
      "text/plain": [
       "array([[45670156],\n",
       "       [52758905],\n",
       "       [54698266],\n",
       "       [45299201],\n",
       "       [47371481]], dtype=int64)"
      ]
     },
     "execution_count": 5,
     "metadata": {},
     "output_type": "execute_result"
    }
   ],
   "source": [
    "# Examine the first five entries in X (two-dimensional NumPy array).\n",
    "X[:5]"
   ]
  },
  {
   "cell_type": "code",
   "execution_count": 6,
   "metadata": {},
   "outputs": [
    {
     "data": {
      "text/plain": [
       "(52, 1)"
      ]
     },
     "execution_count": 6,
     "metadata": {},
     "output_type": "execute_result"
    }
   ],
   "source": [
    "# Examine the shape of X.\n",
    "X.shape"
   ]
  },
  {
   "cell_type": "code",
   "execution_count": 7,
   "metadata": {},
   "outputs": [],
   "source": [
    "# Assign the target variable to y.\n",
    "y = pp_df.price_LA"
   ]
  },
  {
   "cell_type": "code",
   "execution_count": 8,
   "metadata": {},
   "outputs": [],
   "source": [
    "# Create an instance of the linear regression model.\n",
    "model = LinearRegression()"
   ]
  },
  {
   "cell_type": "code",
   "execution_count": 9,
   "metadata": {},
   "outputs": [
    {
     "data": {
      "text/plain": [
       "LinearRegression()"
      ]
     },
     "execution_count": 9,
     "metadata": {},
     "output_type": "execute_result"
    }
   ],
   "source": [
    "#Fit the model.\n",
    "model.fit(X, y)"
   ]
  },
  {
   "cell_type": "code",
   "execution_count": 10,
   "metadata": {},
   "outputs": [
    {
     "name": "stdout",
     "output_type": "stream",
     "text": [
      "(52,)\n"
     ]
    }
   ],
   "source": [
    "# Predict the model.\n",
    "y_pred = model.predict(X)\n",
    "print(y_pred.shape)"
   ]
  },
  {
   "cell_type": "code",
   "execution_count": 11,
   "metadata": {},
   "outputs": [
    {
     "data": {
      "image/png": "[encoded data removed]",
      "text/plain": [
       "<Figure size 432x288 with 1 Axes>"
      ]
     },
     "metadata": {
      "needs_background": "light"
     },
     "output_type": "display_data"
    }
   ],
   "source": [
    "# Linear Regression prediction.\n",
    "plt.scatter(X, y)\n",
    "plt.plot(X, y_pred, color='red')\n",
    "plt.show()"
   ]
  },
  {
   "cell_type": "code",
   "execution_count": 12,
   "metadata": {},
   "outputs": [
    {
     "name": "stdout",
     "output_type": "stream",
     "text": [
      "[-5.94429872e-10]\n",
      "1.1390383761994791\n"
     ]
    }
   ],
   "source": [
    "# Examine the specific parameters of our model: the slope and the y-intercept. \n",
    "# The slope is represented by model.coef_, and model.intercept_ is the y-intercept.\n",
    "print(model.coef_)\n",
    "print(model.intercept_)"
   ]
  },
  {
   "cell_type": "code",
   "execution_count": null,
   "metadata": {},
   "outputs": [],
   "source": []
  }
 ],
 "metadata": {
  "kernelspec": {
   "display_name": "pythonml",
   "language": "python",
   "name": "pythonml"
  },
  "language_info": {
   "codemirror_mode": {
    "name": "ipython",
    "version": 3
   },
   "file_extension": ".py",
   "mimetype": "text/x-python",
   "name": "python",
   "nbconvert_exporter": "python",
   "pygments_lexer": "ipython3",
   "version": "3.7.9"
  }
 },
 "nbformat": 4,
 "nbformat_minor": 4
}
