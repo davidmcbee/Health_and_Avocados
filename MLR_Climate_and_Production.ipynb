{
 "cells": [
  {
   "cell_type": "markdown",
   "metadata": {},
   "source": [
    "### (Multiple) Linear Regression for avocado production in California\n",
    "\n",
    "**climate data in Southern California** (=features or X-variables/independent variables)\n",
    "\n",
    "**production in Southern California** (=target or y-variable/dependent variable).\n"
   ]
  },
  {
   "cell_type": "code",
   "execution_count": 1,
   "metadata": {},
   "outputs": [],
   "source": [
    "# Import dependencies.\n",
    "import pandas as pd\n",
    "from pathlib import Path\n",
    "import matplotlib.pyplot as plt\n",
    "from sklearn.linear_model import LinearRegression"
   ]
  },
  {
   "cell_type": "code",
   "execution_count": 2,
   "metadata": {},
   "outputs": [
    {
     "data": {
      "text/html": [
       "<div>\n",
       "<style scoped>\n",
       "    .dataframe tbody tr th:only-of-type {\n",
       "        vertical-align: middle;\n",
       "    }\n",
       "\n",
       "    .dataframe tbody tr th {\n",
       "        vertical-align: top;\n",
       "    }\n",
       "\n",
       "    .dataframe thead th {\n",
       "        text-align: right;\n",
       "    }\n",
       "</style>\n",
       "<table border=\"1\" class=\"dataframe\">\n",
       "  <thead>\n",
       "    <tr style=\"text-align: right;\">\n",
       "      <th></th>\n",
       "      <th>year_month</th>\n",
       "      <th>pcp</th>\n",
       "      <th>tavg</th>\n",
       "      <th>pdsi</th>\n",
       "      <th>phdi</th>\n",
       "      <th>zndx</th>\n",
       "      <th>pmdi</th>\n",
       "      <th>cdd</th>\n",
       "      <th>hdd</th>\n",
       "      <th>sp01</th>\n",
       "      <th>sp02</th>\n",
       "      <th>sp03</th>\n",
       "      <th>sp06</th>\n",
       "      <th>sp09</th>\n",
       "      <th>sp12</th>\n",
       "      <th>sp24</th>\n",
       "      <th>tmin</th>\n",
       "      <th>tmax</th>\n",
       "      <th>CA_production</th>\n",
       "    </tr>\n",
       "  </thead>\n",
       "  <tbody>\n",
       "    <tr>\n",
       "      <th>0</th>\n",
       "      <td>1/1/2018</td>\n",
       "      <td>3.33</td>\n",
       "      <td>48.9</td>\n",
       "      <td>-3.13</td>\n",
       "      <td>-3.13</td>\n",
       "      <td>-2.34</td>\n",
       "      <td>-3.13</td>\n",
       "      <td>8</td>\n",
       "      <td>371</td>\n",
       "      <td>-0.12</td>\n",
       "      <td>-1.22</td>\n",
       "      <td>-0.87</td>\n",
       "      <td>-1.07</td>\n",
       "      <td>-1.22</td>\n",
       "      <td>-0.05</td>\n",
       "      <td>0.81</td>\n",
       "      <td>39.1</td>\n",
       "      <td>58.6</td>\n",
       "      <td>7342189</td>\n",
       "    </tr>\n",
       "    <tr>\n",
       "      <th>1</th>\n",
       "      <td>2/1/2018</td>\n",
       "      <td>0.57</td>\n",
       "      <td>46.6</td>\n",
       "      <td>-4.15</td>\n",
       "      <td>-4.15</td>\n",
       "      <td>-4.01</td>\n",
       "      <td>-4.15</td>\n",
       "      <td>0</td>\n",
       "      <td>418</td>\n",
       "      <td>-1.60</td>\n",
       "      <td>-1.10</td>\n",
       "      <td>-1.98</td>\n",
       "      <td>-1.70</td>\n",
       "      <td>-1.72</td>\n",
       "      <td>-1.50</td>\n",
       "      <td>0.68</td>\n",
       "      <td>34.2</td>\n",
       "      <td>59.0</td>\n",
       "      <td>14971448</td>\n",
       "    </tr>\n",
       "    <tr>\n",
       "      <th>2</th>\n",
       "      <td>3/1/2018</td>\n",
       "      <td>5.12</td>\n",
       "      <td>49.0</td>\n",
       "      <td>-3.05</td>\n",
       "      <td>-3.05</td>\n",
       "      <td>1.99</td>\n",
       "      <td>-2.23</td>\n",
       "      <td>1</td>\n",
       "      <td>427</td>\n",
       "      <td>1.03</td>\n",
       "      <td>-0.22</td>\n",
       "      <td>-0.31</td>\n",
       "      <td>-1.05</td>\n",
       "      <td>-1.07</td>\n",
       "      <td>-0.90</td>\n",
       "      <td>0.71</td>\n",
       "      <td>38.2</td>\n",
       "      <td>59.7</td>\n",
       "      <td>20820724</td>\n",
       "    </tr>\n",
       "    <tr>\n",
       "      <th>3</th>\n",
       "      <td>4/1/2018</td>\n",
       "      <td>2.13</td>\n",
       "      <td>57.2</td>\n",
       "      <td>-2.63</td>\n",
       "      <td>-2.63</td>\n",
       "      <td>0.32</td>\n",
       "      <td>-1.65</td>\n",
       "      <td>20</td>\n",
       "      <td>239</td>\n",
       "      <td>0.62</td>\n",
       "      <td>1.04</td>\n",
       "      <td>-0.06</td>\n",
       "      <td>-0.71</td>\n",
       "      <td>-0.86</td>\n",
       "      <td>-0.98</td>\n",
       "      <td>0.77</td>\n",
       "      <td>44.3</td>\n",
       "      <td>70.0</td>\n",
       "      <td>63334296</td>\n",
       "    </tr>\n",
       "    <tr>\n",
       "      <th>4</th>\n",
       "      <td>5/1/2018</td>\n",
       "      <td>0.66</td>\n",
       "      <td>63.0</td>\n",
       "      <td>-2.42</td>\n",
       "      <td>-2.42</td>\n",
       "      <td>-0.17</td>\n",
       "      <td>-1.48</td>\n",
       "      <td>35</td>\n",
       "      <td>159</td>\n",
       "      <td>-0.16</td>\n",
       "      <td>0.35</td>\n",
       "      <td>0.93</td>\n",
       "      <td>-0.92</td>\n",
       "      <td>-0.91</td>\n",
       "      <td>-0.94</td>\n",
       "      <td>0.78</td>\n",
       "      <td>50.1</td>\n",
       "      <td>75.9</td>\n",
       "      <td>54258364</td>\n",
       "    </tr>\n",
       "  </tbody>\n",
       "</table>\n",
       "</div>"
      ],
      "text/plain": [
       "  year_month   pcp  tavg  pdsi  phdi  zndx  pmdi  cdd  hdd  sp01  sp02  sp03  \\\n",
       "0   1/1/2018  3.33  48.9 -3.13 -3.13 -2.34 -3.13    8  371 -0.12 -1.22 -0.87   \n",
       "1   2/1/2018  0.57  46.6 -4.15 -4.15 -4.01 -4.15    0  418 -1.60 -1.10 -1.98   \n",
       "2   3/1/2018  5.12  49.0 -3.05 -3.05  1.99 -2.23    1  427  1.03 -0.22 -0.31   \n",
       "3   4/1/2018  2.13  57.2 -2.63 -2.63  0.32 -1.65   20  239  0.62  1.04 -0.06   \n",
       "4   5/1/2018  0.66  63.0 -2.42 -2.42 -0.17 -1.48   35  159 -0.16  0.35  0.93   \n",
       "\n",
       "   sp06  sp09  sp12  sp24  tmin  tmax  CA_production  \n",
       "0 -1.07 -1.22 -0.05  0.81  39.1  58.6        7342189  \n",
       "1 -1.70 -1.72 -1.50  0.68  34.2  59.0       14971448  \n",
       "2 -1.05 -1.07 -0.90  0.71  38.2  59.7       20820724  \n",
       "3 -0.71 -0.86 -0.98  0.77  44.3  70.0       63334296  \n",
       "4 -0.92 -0.91 -0.94  0.78  50.1  75.9       54258364  "
      ]
     },
     "execution_count": 2,
     "metadata": {},
     "output_type": "execute_result"
    }
   ],
   "source": [
    "# Read in CSV file.\n",
    "cp_df = pd.read_csv(Path('././MOCK_datasets_ML/MLR_Climate.csv'))\n",
    "cp_df.head()"
   ]
  },
  {
   "cell_type": "code",
   "execution_count": 3,
   "metadata": {},
   "outputs": [
    {
     "data": {
      "image/png": "[encoded data removed]",
      "text/plain": [
       "<Figure size 432x288 with 1 Axes>"
      ]
     },
     "metadata": {
      "needs_background": "light"
     },
     "output_type": "display_data"
    }
   ],
   "source": [
    "# Visually inspect the relationship between CA Volume Produced and Climate data (pcp).\n",
    "plt.scatter(cp_df.pcp, cp_df.CA_production)\n",
    "plt.xlabel('pcp')\n",
    "plt.ylabel('CA_production')\n",
    "plt.show()"
   ]
  },
  {
   "cell_type": "code",
   "execution_count": 4,
   "metadata": {},
   "outputs": [],
   "source": [
    "# Formats the data to meet the requirements of the Scikit-learn library\n",
    "X = cp_df.pcp.values.reshape(-1, 1)"
   ]
  },
  {
   "cell_type": "code",
   "execution_count": 5,
   "metadata": {},
   "outputs": [
    {
     "data": {
      "text/plain": [
       "array([[3.33],\n",
       "       [0.57],\n",
       "       [5.12],\n",
       "       [2.13],\n",
       "       [0.66]])"
      ]
     },
     "execution_count": 5,
     "metadata": {},
     "output_type": "execute_result"
    }
   ],
   "source": [
    "# Examine the first five entries in X (two-dimensional NumPy array).\n",
    "X[:5]"
   ]
  },
  {
   "cell_type": "code",
   "execution_count": 6,
   "metadata": {},
   "outputs": [
    {
     "data": {
      "text/plain": [
       "(24, 1)"
      ]
     },
     "execution_count": 6,
     "metadata": {},
     "output_type": "execute_result"
    }
   ],
   "source": [
    "# Examine the shape of X.\n",
    "X.shape"
   ]
  },
  {
   "cell_type": "code",
   "execution_count": 7,
   "metadata": {},
   "outputs": [],
   "source": [
    "# Assign the target variable to y.\n",
    "y = cp_df.CA_production"
   ]
  },
  {
   "cell_type": "code",
   "execution_count": 8,
   "metadata": {},
   "outputs": [],
   "source": [
    "# Create an instance of the linear regression model.\n",
    "model = LinearRegression()"
   ]
  },
  {
   "cell_type": "code",
   "execution_count": 9,
   "metadata": {},
   "outputs": [
    {
     "data": {
      "text/plain": [
       "LinearRegression()"
      ]
     },
     "execution_count": 9,
     "metadata": {},
     "output_type": "execute_result"
    }
   ],
   "source": [
    "#Fit the model.\n",
    "model.fit(X, y)"
   ]
  },
  {
   "cell_type": "code",
   "execution_count": 10,
   "metadata": {},
   "outputs": [
    {
     "name": "stdout",
     "output_type": "stream",
     "text": [
      "(24,)\n"
     ]
    }
   ],
   "source": [
    "# Predict the model.\n",
    "y_pred = model.predict(X)\n",
    "print(y_pred.shape)"
   ]
  },
  {
   "cell_type": "code",
   "execution_count": 11,
   "metadata": {},
   "outputs": [
    {
     "data": {
      "image/png": "[encoded data removed]",
      "text/plain": [
       "<Figure size 432x288 with 1 Axes>"
      ]
     },
     "metadata": {
      "needs_background": "light"
     },
     "output_type": "display_data"
    }
   ],
   "source": [
    "# Linear Regression prediction.\n",
    "plt.scatter(X, y)\n",
    "plt.plot(X, y_pred, color='red')\n",
    "plt.show()"
   ]
  },
  {
   "cell_type": "code",
   "execution_count": 12,
   "metadata": {},
   "outputs": [
    {
     "name": "stdout",
     "output_type": "stream",
     "text": [
      "[-3571149.09103973]\n",
      "33088044.69116606\n"
     ]
    }
   ],
   "source": [
    "# Examine the specific parameters of our model: the slope and the y-intercept. \n",
    "# The slope is represented by model.coef_, and model.intercept_ is the y-intercept.\n",
    "print(model.coef_)\n",
    "print(model.intercept_)"
   ]
  },
  {
   "cell_type": "code",
   "execution_count": null,
   "metadata": {},
   "outputs": [],
   "source": []
  },
  {
   "cell_type": "code",
   "execution_count": null,
   "metadata": {},
   "outputs": [],
   "source": []
  }
 ],
 "metadata": {
  "kernelspec": {
   "display_name": "mlenv",
   "language": "python",
   "name": "mlenv"
  },
  "language_info": {
   "codemirror_mode": {
    "name": "ipython",
    "version": 3
   },
   "file_extension": ".py",
   "mimetype": "text/x-python",
   "name": "python",
   "nbconvert_exporter": "python",
   "pygments_lexer": "ipython3",
   "version": "3.7.7"
  }
 },
 "nbformat": 4,
 "nbformat_minor": 4
}
