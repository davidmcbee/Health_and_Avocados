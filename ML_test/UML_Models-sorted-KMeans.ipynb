{
 "cells": [
  {
   "cell_type": "code",
   "execution_count": null,
   "metadata": {},
   "outputs": [],
   "source": [
    "# Import dependencies.\n",
    "from sklearn.model_selection import train_test_split\n",
    "from sklearn.preprocessing import StandardScaler,OneHotEncoder\n",
    "import pandas as pd\n",
    "import tensorflow as tf\n",
    "from pathlib import Path\n",
    "import numpy as np\n",
    "import matplotlib.pyplot as plt\n",
    "\n",
    "import warnings\n",
    "warnings.filterwarnings('ignore')\n",
    "\n",
    "# Import checkpoint dependencies\n",
    "import os\n",
    "from tensorflow.keras.callbacks import ModelCheckpoint"
   ]
  },
  {
   "cell_type": "code",
   "execution_count": null,
   "metadata": {},
   "outputs": [],
   "source": [
    "prices_df = pd.read_csv(Path('../resources/prices_sorted_type_geo_yr_wk.csv'))\n",
    "prices_df.head()"
   ]
  },
  {
   "cell_type": "code",
   "execution_count": null,
   "metadata": {},
   "outputs": [],
   "source": [
    "print(prices_df.shape)"
   ]
  },
  {
   "cell_type": "code",
   "execution_count": null,
   "metadata": {},
   "outputs": [],
   "source": [
    "prices_df.columns"
   ]
  },
  {
   "cell_type": "markdown",
   "metadata": {},
   "source": [
    "# Pre-Processing"
   ]
  },
  {
   "cell_type": "code",
   "execution_count": null,
   "metadata": {},
   "outputs": [],
   "source": [
    "# finding null values\n",
    "def findNull(values):\n",
    "    print(values.shape)\n",
    "    index = 0\n",
    "    for j in values:\n",
    "        if not np.isfinite(j):\n",
    "            print(index, j)\n",
    "        index +=1"
   ]
  },
  {
   "cell_type": "code",
   "execution_count": null,
   "metadata": {},
   "outputs": [],
   "source": [
    "# finding null values\n",
    "for col in prices_df.columns:\n",
    "    print(f\"Column {col} has {prices_df[col].isnull().sum()} null values\")\n",
    "    "
   ]
  },
  {
   "cell_type": "code",
   "execution_count": null,
   "metadata": {},
   "outputs": [],
   "source": [
    "prices_df.count()"
   ]
  },
  {
   "cell_type": "code",
   "execution_count": null,
   "metadata": {},
   "outputs": [],
   "source": [
    "prices_df.isnull()"
   ]
  },
  {
   "cell_type": "code",
   "execution_count": null,
   "metadata": {},
   "outputs": [],
   "source": [
    "prices_df = prices_df.dropna()"
   ]
  },
  {
   "cell_type": "code",
   "execution_count": null,
   "metadata": {},
   "outputs": [],
   "source": [
    "for col in prices_df.columns:\n",
    "    plt.scatter(prices_df[col], prices_df['price_inc'])\n",
    "    plt.xlabel(col)\n",
    "    plt.ylabel('price_inc')\n",
    "    plt.show()"
   ]
  },
  {
   "cell_type": "code",
   "execution_count": null,
   "metadata": {},
   "outputs": [],
   "source": [
    "prices_df.count()"
   ]
  },
  {
   "cell_type": "markdown",
   "metadata": {},
   "source": [
    "## Duplicate check"
   ]
  },
  {
   "cell_type": "code",
   "execution_count": null,
   "metadata": {},
   "outputs": [],
   "source": [
    "#pre_prices_df = prices_df.copy()\n",
    "\n",
    "# y 0 1 2 3 values\n",
    "#0 for val in y if val >= 0.44 and val < 1.14\n",
    "#1 for val in y if val >= 1.14 and val < 1.37 \n",
    "#2 for val in y if val >= 1.37 and val < 1.63\n",
    "#3 for val in y if val >=1.63 \n",
    "\n",
    "# ratios 4046_units/total_volume  4225_units/total_volume  4770_units/total_volume  \n",
    "# ratios s_bags/total_bags  l_bags/total_bags  xl_bags/total_bags\n",
    "\n",
    "# Establish the bins.\n",
    "#price_bins = [0.44, 1.14, 1.37, 1.63, 3.17]\n",
    "#group_names = [\"0\", \"1\", \"2\", \"3\" ]\n",
    "\n",
    "print(f\"Duplicated entries {prices_df.duplicated().sum()}\")\n",
    "# Categorize prices for NB.\n",
    "#prices_df[\"price_cat\"] = pd.cut(prices_df['avg_price'], price_bins, labels=group_names)\n",
    "\n",
    "prices_df.head()"
   ]
  },
  {
   "cell_type": "markdown",
   "metadata": {},
   "source": [
    "## Transforming string cols"
   ]
  },
  {
   "cell_type": "code",
   "execution_count": null,
   "metadata": {},
   "outputs": [],
   "source": [
    "# type con organic\n",
    "def change_type_string(str):\n",
    "    if str == \"conventional\":\n",
    "        return 1\n",
    "    else:\n",
    "        return 0\n",
    "    \n",
    "prices_df['type'] = prices_df['type'].apply(change_type_string)\n",
    "\n",
    "prices_df.head()"
   ]
  },
  {
   "cell_type": "markdown",
   "metadata": {},
   "source": [
    "## Creating ratios "
   ]
  },
  {
   "cell_type": "code",
   "execution_count": null,
   "metadata": {},
   "outputs": [],
   "source": [
    "prices_df[\"4046_ratio_units\"] = prices_df['4046_units']/prices_df['total_volume']\n",
    "prices_df[\"4225_ratio_units\"] = prices_df['4225_units']/prices_df['total_volume']\n",
    "prices_df[\"4770_ratio_units\"] = prices_df['4770_units']/prices_df['total_volume']\n",
    "prices_df[\"total_ratio_bags\"] = prices_df['total_bags']/prices_df['total_volume']\n",
    "\n",
    "prices_df[\"s_ratio_bags\"] = prices_df['s_bags']/prices_df['total_bags']\n",
    "prices_df[\"l_ratio_bags\"] = prices_df['l_bags']/prices_df['total_bags']\n",
    "prices_df[\"xl_ratio_bags\"] = prices_df['xl_bags']/prices_df['total_bags']\n",
    "\n",
    "\n",
    "prices_df.head()"
   ]
  },
  {
   "cell_type": "markdown",
   "metadata": {},
   "source": [
    "## Creating percents "
   ]
  },
  {
   "cell_type": "code",
   "execution_count": null,
   "metadata": {},
   "outputs": [],
   "source": [
    "prices_df[\"4046_per_units\"] = 100*prices_df['4046_units']/prices_df['total_volume']\n",
    "prices_df[\"4225_per_units\"] = 100*prices_df['4225_units']/prices_df['total_volume']\n",
    "prices_df[\"4770_per_units\"] = 100*prices_df['4770_units']/prices_df['total_volume']\n",
    "prices_df[\"total_per_bags\"] = 100*prices_df['total_bags']/prices_df['total_volume']\n",
    "\n",
    "prices_df[\"s_per_bags\"] = 100*prices_df['s_bags']/prices_df['total_bags']\n",
    "prices_df[\"l_per_bags\"] = 100*prices_df['l_bags']/prices_df['total_bags']\n",
    "prices_df[\"xl_per_bags\"] = 100*prices_df['xl_bags']/prices_df['total_bags']\n",
    "\n",
    "prices_df.head()"
   ]
  },
  {
   "cell_type": "markdown",
   "metadata": {},
   "source": [
    "## create variables for text features "
   ]
  },
  {
   "cell_type": "code",
   "execution_count": null,
   "metadata": {},
   "outputs": [],
   "source": [
    "prices_ml_df = pd.get_dummies(data=prices_df, columns=['year_month', 'geography', 'date', 'type'])\n",
    "prices_ml_df.head()"
   ]
  },
  {
   "cell_type": "markdown",
   "metadata": {},
   "source": [
    "## Dropping cols"
   ]
  },
  {
   "cell_type": "code",
   "execution_count": null,
   "metadata": {},
   "outputs": [],
   "source": [
    "#prices_df = prices_df.drop(columns=['timeframe'], axis=1)\n",
    "prices_nd_df = prices_df.drop(columns=['timeframe'], axis=1)\n",
    "prices_ml_nd_df = pd.get_dummies(data=prices_nd_df, columns=['year_month', 'geography', 'date', 'type'])\n",
    "\n",
    "\n",
    "prices_ml_nd_df.head()"
   ]
  },
  {
   "cell_type": "code",
   "execution_count": null,
   "metadata": {},
   "outputs": [],
   "source": [
    "prices_ml_df = prices_ml_df.drop(columns=['timeframe', 'total_volume', '4046_units', '4225_units', '4770_units',\n",
    "                                       'total_bags', 's_bags', 'l_bags', 'xl_bags'], axis=1)\n",
    "prices_ml_df.head()"
   ]
  },
  {
   "cell_type": "code",
   "execution_count": null,
   "metadata": {},
   "outputs": [],
   "source": [
    "prices_df.count()"
   ]
  },
  {
   "cell_type": "code",
   "execution_count": null,
   "metadata": {},
   "outputs": [],
   "source": [
    "prices_df = prices_df.dropna()\n",
    "prices_df.count()"
   ]
  },
  {
   "cell_type": "code",
   "execution_count": null,
   "metadata": {},
   "outputs": [],
   "source": [
    "prices_ml_df.columns"
   ]
  },
  {
   "cell_type": "code",
   "execution_count": null,
   "metadata": {},
   "outputs": [],
   "source": [
    "print(prices_ml_df.shape)"
   ]
  },
  {
   "cell_type": "code",
   "execution_count": null,
   "metadata": {},
   "outputs": [],
   "source": [
    "prices_ml_df_copy = prices_ml_df.copy()\n",
    "prices_ml_df.head()"
   ]
  },
  {
   "cell_type": "code",
   "execution_count": null,
   "metadata": {},
   "outputs": [],
   "source": [
    "#prices_ml_df.plot()\n",
    "#plt.show()\n",
    "\n",
    "for col in prices_ml_df.columns:\n",
    "    plt.scatter(prices_ml_df[col], prices_ml_df['price_inc'])\n",
    "    plt.xlabel(col)\n",
    "    plt.ylabel('price_inc')\n",
    "    plt.show()"
   ]
  },
  {
   "cell_type": "markdown",
   "metadata": {},
   "source": [
    "## K Means "
   ]
  },
  {
   "cell_type": "code",
   "execution_count": null,
   "metadata": {},
   "outputs": [],
   "source": [
    "import pandas as pd\n",
    "import plotly.express as px\n",
    "import hvplot.pandas\n",
    "from sklearn.cluster import KMeans"
   ]
  },
  {
   "cell_type": "code",
   "execution_count": null,
   "metadata": {},
   "outputs": [],
   "source": [
    "# Initializing model with K = 2 (since we already know there are 2 classes increase or not)\n",
    "model = KMeans(n_clusters=2, random_state=5)\n",
    "model"
   ]
  },
  {
   "cell_type": "code",
   "execution_count": null,
   "metadata": {},
   "outputs": [],
   "source": [
    "# Fitting model\n",
    "model.fit(prices_ml_df)"
   ]
  },
  {
   "cell_type": "code",
   "execution_count": null,
   "metadata": {},
   "outputs": [],
   "source": [
    "# Get the predictions\n",
    "predictions = model.predict(prices_ml_df)\n",
    "print(predictions)"
   ]
  },
  {
   "cell_type": "code",
   "execution_count": null,
   "metadata": {},
   "outputs": [],
   "source": [
    "# Add a new class column to the dataset\n",
    "prices_ml_df[\"class\"] = model.labels_\n",
    "prices_ml_df.head()"
   ]
  },
  {
   "cell_type": "markdown",
   "metadata": {},
   "source": [
    "## Visualize the Results"
   ]
  },
  {
   "cell_type": "code",
   "execution_count": null,
   "metadata": {},
   "outputs": [],
   "source": [
    "import plotly.express as px\n",
    "import hvplot.pandas\n",
    "\n",
    "# Create a scatterplot of df_iris\n",
    "prices_ml_df.hvplot.scatter(x=\"4046_ratio_units\", y=\"4225_ratio_units\", by=\"class\")\n",
    "\n"
   ]
  },
  {
   "cell_type": "code",
   "execution_count": null,
   "metadata": {},
   "outputs": [],
   "source": [
    "# Plotting the clusters with three features\n",
    "fig = px.scatter_3d(prices_ml_df, x=\"4046_ratio_units\", y=\"4225_ratio_units\", z=\"4770_ratio_units\", color=\"class\", symbol=\"class\", size=\"avg_price\",width=800)\n",
    "fig.update_layout(legend=dict(x=0,y=1))\n",
    "fig.show()"
   ]
  },
  {
   "cell_type": "code",
   "execution_count": null,
   "metadata": {},
   "outputs": [],
   "source": [
    "# plotting with two diff features\n",
    "prices_ml_df.hvplot.scatter(x=\"4770_ratio_units\", y=\"total_ratio_bags\")"
   ]
  },
  {
   "cell_type": "code",
   "execution_count": null,
   "metadata": {},
   "outputs": [],
   "source": [
    "# Function to cluster and plot dataset\n",
    "def test_cluster_amount(df, clusters):\n",
    "    model = KMeans(n_clusters=clusters, random_state=5)\n",
    "    # Fitting model\n",
    "    model.fit(df)\n",
    "    # Add a new class column to df_iris\n",
    "    df[\"class\"] = model.labels_\n",
    "    "
   ]
  },
  {
   "cell_type": "code",
   "execution_count": null,
   "metadata": {},
   "outputs": [],
   "source": [
    "df = prices_ml_df_copy.copy()\n",
    "test_cluster_amount(df, 2)\n",
    "df.hvplot.scatter(x=\"4770_ratio_units\", y=\"total_ratio_bags\", by=\"class\")"
   ]
  },
  {
   "cell_type": "code",
   "execution_count": null,
   "metadata": {},
   "outputs": [],
   "source": [
    "fig = px.scatter_3d(df, x=\"4770_ratio_units\", y=\"total_ratio_bags\", z=\"avg_price\",\n",
    "                    color=\"class\", symbol=\"class\", width=800)\n",
    "fig.update_layout(legend=dict(x=0, y=1))\n",
    "fig.show()"
   ]
  },
  {
   "cell_type": "code",
   "execution_count": null,
   "metadata": {},
   "outputs": [],
   "source": [
    "df = prices_ml_df_copy.copy()\n",
    "test_cluster_amount(df, 3)\n",
    "df.hvplot.scatter(x=\"4770_ratio_units\", y=\"total_ratio_bags\", by=\"class\")"
   ]
  },
  {
   "cell_type": "code",
   "execution_count": null,
   "metadata": {},
   "outputs": [],
   "source": [
    "fig = px.scatter_3d(df, x=\"4770_ratio_units\", y=\"total_ratio_bags\", z=\"avg_price\",\n",
    "                    color=\"class\", symbol=\"class\", width=800)\n",
    "fig.update_layout(legend=dict(x=0, y=1))\n",
    "fig.show()"
   ]
  },
  {
   "cell_type": "code",
   "execution_count": null,
   "metadata": {},
   "outputs": [],
   "source": [
    "df = prices_ml_df_copy.copy()\n",
    "test_cluster_amount(df, 4)\n",
    "df.hvplot.scatter(x=\"4770_ratio_units\", y=\"total_ratio_bags\", by=\"class\")"
   ]
  },
  {
   "cell_type": "code",
   "execution_count": null,
   "metadata": {},
   "outputs": [],
   "source": [
    "fig = px.scatter_3d(df, x=\"4770_ratio_units\", y=\"total_ratio_bags\", z=\"avg_price\",\n",
    "                    color=\"class\", symbol=\"class\", width=800)\n",
    "fig.update_layout(legend=dict(x=0, y=1))\n",
    "fig.show()"
   ]
  },
  {
   "cell_type": "code",
   "execution_count": null,
   "metadata": {},
   "outputs": [],
   "source": [
    "df = prices_ml_df_copy.copy()\n",
    "test_cluster_amount(df, 5)\n",
    "df.hvplot.scatter(x=\"4770_ratio_units\", y=\"total_ratio_bags\", by=\"class\")"
   ]
  },
  {
   "cell_type": "code",
   "execution_count": null,
   "metadata": {},
   "outputs": [],
   "source": [
    "fig = px.scatter_3d(df, x=\"4770_ratio_units\", y=\"total_ratio_bags\", z=\"avg_price\",\n",
    "                    color=\"class\", symbol=\"class\", width=800)\n",
    "fig.update_layout(legend=dict(x=0, y=1))\n",
    "fig.show()"
   ]
  },
  {
   "cell_type": "code",
   "execution_count": null,
   "metadata": {},
   "outputs": [],
   "source": [
    "df = prices_ml_df_copy.copy()\n",
    "test_cluster_amount(df, 6)\n",
    "df.hvplot.scatter(x=\"4770_ratio_units\", y=\"total_ratio_bags\", by=\"class\")"
   ]
  },
  {
   "cell_type": "code",
   "execution_count": null,
   "metadata": {},
   "outputs": [],
   "source": [
    "fig = px.scatter_3d(df, x=\"4770_ratio_units\", y=\"total_ratio_bags\", z=\"avg_price\",\n",
    "                    color=\"class\", symbol=\"class\", width=800)\n",
    "fig.update_layout(legend=dict(x=0, y=1))\n",
    "fig.show()"
   ]
  },
  {
   "cell_type": "markdown",
   "metadata": {},
   "source": [
    "## Elbow plots "
   ]
  },
  {
   "cell_type": "code",
   "execution_count": null,
   "metadata": {},
   "outputs": [],
   "source": [
    "inertia = []\n",
    "k = list(range(1, 11))\n",
    "df = prices_ml_df_copy.copy()"
   ]
  },
  {
   "cell_type": "code",
   "execution_count": null,
   "metadata": {},
   "outputs": [],
   "source": [
    "# Looking for the best K\n",
    "for i in k:\n",
    "    km = KMeans(n_clusters=i, random_state=0)\n",
    "    km.fit(df)\n",
    "    inertia.append(km.inertia_)"
   ]
  },
  {
   "cell_type": "code",
   "execution_count": null,
   "metadata": {},
   "outputs": [],
   "source": [
    "# Define a DataFrame to plot the Elbow Curve using hvPlot\n",
    "elbow_data = {\"k\": k, \"inertia\": inertia}\n",
    "df_elbow = pd.DataFrame(elbow_data)\n",
    "df_elbow.hvplot.line(x=\"k\", y=\"inertia\", title=\"Elbow Curve\", xticks=k)"
   ]
  },
  {
   "cell_type": "markdown",
   "metadata": {},
   "source": [
    "### K is 6 or 7 "
   ]
  },
  {
   "cell_type": "code",
   "execution_count": null,
   "metadata": {},
   "outputs": [],
   "source": [
    "def get_clusters(k, data):\n",
    "    # Create a copy of the DataFrame\n",
    "    data = data.copy()\n",
    "    \n",
    "    # Initialize the K-Means model\n",
    "    model = KMeans(n_clusters=k, random_state=0)\n",
    "    # Fit the model\n",
    "    model.fit(data)\n",
    "    # Predict clusters\n",
    "    predictions = model.predict(data)\n",
    "    \n",
    "    # Create return DataFrame with predicted clusters\n",
    "    data[\"class\"] = model.labels_\n",
    "    \n",
    "    return data\n"
   ]
  },
  {
   "cell_type": "code",
   "execution_count": null,
   "metadata": {},
   "outputs": [],
   "source": [
    "df = prices_ml_df_copy.copy()\n",
    "df_6 = get_clusters(6, df)\n",
    "df_6.hvplot.scatter(x=\"4770_ratio_units\", y=\"total_ratio_bags\", by=\"class\")\n",
    "\n",
    "\n"
   ]
  },
  {
   "cell_type": "code",
   "execution_count": null,
   "metadata": {},
   "outputs": [],
   "source": [
    "fig = px.scatter_3d(df_6, x=\"4770_ratio_units\", y=\"total_ratio_bags\", z=\"avg_price\",\n",
    "                    color=\"class\", symbol=\"class\", width=800)\n",
    "fig.update_layout(legend=dict(x=0, y=1))\n",
    "fig.show()"
   ]
  },
  {
   "cell_type": "code",
   "execution_count": null,
   "metadata": {},
   "outputs": [],
   "source": [
    "df = prices_ml_df_copy.copy()\n",
    "df_7 = get_clusters(7, df)\n",
    "df_7.hvplot.scatter(x=\"4770_ratio_units\", y=\"total_ratio_bags\", by=\"class\")\n",
    "\n"
   ]
  },
  {
   "cell_type": "code",
   "execution_count": null,
   "metadata": {},
   "outputs": [],
   "source": [
    "fig = px.scatter_3d(df_7, x=\"4770_ratio_units\", y=\"total_ratio_bags\", z=\"avg_price\",\n",
    "                    color=\"class\", symbol=\"class\", width=800)\n",
    "fig.update_layout(legend=dict(x=0, y=1))\n",
    "fig.show()"
   ]
  },
  {
   "cell_type": "code",
   "execution_count": null,
   "metadata": {},
   "outputs": [],
   "source": []
  },
  {
   "cell_type": "markdown",
   "metadata": {},
   "source": [
    "## PCA - Principal Component Analysis"
   ]
  },
  {
   "cell_type": "code",
   "execution_count": null,
   "metadata": {},
   "outputs": [],
   "source": [
    "prices_ml_nd_df.head()"
   ]
  },
  {
   "cell_type": "code",
   "execution_count": null,
   "metadata": {},
   "outputs": [],
   "source": [
    "prices_ml_nd_df.columns"
   ]
  },
  {
   "cell_type": "code",
   "execution_count": null,
   "metadata": {},
   "outputs": [],
   "source": [
    "# Transform annual income\n",
    "prices_ml_nd_df[\"4046_units\"] = prices_ml_nd_df[\"4046_units\"] / 100\n",
    "prices_ml_nd_df[\"4225_units\"] = prices_ml_nd_df[\"4225_units\"] / 1000\n",
    "prices_ml_nd_df[\"4770_units\"] = prices_ml_nd_df[\"4770_units\"] / 10\n",
    "prices_ml_nd_df[\"total_bags\"] = prices_ml_nd_df[\"total_bags\"] / 100\n",
    "prices_ml_nd_df[\"s_bags\"] = prices_ml_nd_df[\"s_bags\"] / 100\n",
    "\n",
    "prices_ml_nd_df = prices_ml_nd_df.drop(columns=['total_volume'], axis=1)\n",
    "\n",
    "prices_ml_nd_df.head()"
   ]
  },
  {
   "cell_type": "code",
   "execution_count": null,
   "metadata": {},
   "outputs": [],
   "source": [
    "import pandas as pd\n",
    "from sklearn.preprocessing import StandardScaler\n",
    "from sklearn.decomposition import PCA\n",
    "from sklearn.cluster import KMeans\n",
    "import hvplot.pandas"
   ]
  },
  {
   "cell_type": "code",
   "execution_count": null,
   "metadata": {},
   "outputs": [],
   "source": [
    "# Initialize PCA model\n",
    "pca = PCA(n_components=2)\n",
    "prices_scaled = StandardScaler().fit_transform(prices_ml_nd_df)\n",
    "print(prices_scaled[0:5])"
   ]
  },
  {
   "cell_type": "code",
   "execution_count": null,
   "metadata": {},
   "outputs": [],
   "source": [
    "# Get two principal components for the data.\n",
    "prices_pca = pca.fit_transform(prices_scaled)"
   ]
  },
  {
   "cell_type": "code",
   "execution_count": null,
   "metadata": {},
   "outputs": [],
   "source": [
    "# Transform PCA data to a dataframe\n",
    "df_prices_pca = pd.DataFrame(data=prices_pca, columns=[\"principal component 1\", \"principal component 2\"])\n",
    "df_prices_pca.head()"
   ]
  },
  {
   "cell_type": "code",
   "execution_count": null,
   "metadata": {},
   "outputs": [],
   "source": [
    "# Find the best value for K\n",
    "inertia = []\n",
    "k = list(range(1, 11))\n",
    "\n",
    "# Calculate the inertia for the range of K values\n",
    "for i in k:\n",
    "    km = KMeans(n_clusters=i, random_state=0)\n",
    "    km.fit(df_prices_pca)\n",
    "    inertia.append(km.inertia_)\n",
    "\n",
    "# Create the elbow curve\n",
    "elbow_data = {\"k\": k, \"inertia\": inertia}\n",
    "df_elbow = pd.DataFrame(elbow_data)\n",
    "df_elbow.hvplot.line(x=\"k\", y=\"inertia\", xticks=k, title=\"Elbow Curve\")"
   ]
  },
  {
   "cell_type": "code",
   "execution_count": null,
   "metadata": {},
   "outputs": [],
   "source": [
    "# Initialize the K-means model\n",
    "model = KMeans(n_clusters=3, random_state=0)\n",
    "\n",
    "# Fit the model\n",
    "model.fit(df_prices_pca)\n",
    "\n",
    "# Predict clusters\n",
    "predictions = model.predict(df_prices_pca)\n",
    "\n",
    "# Add the predicted class columns\n",
    "df_prices_pca[\"class\"] = model.labels_\n",
    "df_prices_pca.head()"
   ]
  },
  {
   "cell_type": "code",
   "execution_count": null,
   "metadata": {},
   "outputs": [],
   "source": [
    "df_prices_pca.hvplot.scatter(\n",
    "    x=\"principal component 1\",\n",
    "    y=\"principal component 2\",\n",
    "    hover_cols=[\"class\"],\n",
    "    by=\"class\",\n",
    ")"
   ]
  },
  {
   "cell_type": "code",
   "execution_count": null,
   "metadata": {},
   "outputs": [],
   "source": [
    "# Initialize the K-means model\n",
    "model = KMeans(n_clusters=6, random_state=0)\n",
    "\n",
    "# Fit the model\n",
    "model.fit(df_prices_pca)\n",
    "\n",
    "# Predict clusters\n",
    "predictions = model.predict(df_prices_pca)\n",
    "\n",
    "# Add the predicted class columns\n",
    "df_prices_pca[\"class\"] = model.labels_\n",
    "df_prices_pca.head()"
   ]
  },
  {
   "cell_type": "code",
   "execution_count": null,
   "metadata": {},
   "outputs": [],
   "source": [
    "df_prices_pca.hvplot.scatter(\n",
    "    x=\"principal component 1\",\n",
    "    y=\"principal component 2\",\n",
    "    hover_cols=[\"class\"],\n",
    "    by=\"class\",\n",
    ")"
   ]
  },
  {
   "cell_type": "markdown",
   "metadata": {},
   "source": [
    "## Dendogram"
   ]
  },
  {
   "cell_type": "code",
   "execution_count": null,
   "metadata": {},
   "outputs": [],
   "source": [
    "import pandas as pd\n",
    "from sklearn.preprocessing import StandardScaler\n",
    "from sklearn.decomposition import PCA\n",
    "from sklearn.cluster import AgglomerativeClustering\n",
    "import hvplot.pandas\n",
    "\n",
    "import plotly.figure_factory as ff\n",
    "\n",
    "# Create the dendrogram\n",
    "fig = ff.create_dendrogram(df_prices_pca, color_threshold=0)\n",
    "fig.update_layout(width=800, height=500)\n",
    "fig.show()\n",
    "\n",
    "agg = AgglomerativeClustering(n_clusters=3)\n",
    "model = agg.fit(df_prices_pca)\n",
    "\n",
    "# Add the predicted class columns\n",
    "df_prices_pca[\"class\"] = model.labels_\n",
    "df_prices_pca.head()\n",
    "\n",
    "df_prices_pca.hvplot.scatter(\n",
    "        x=\"principal component 1\",\n",
    "        y=\"principal component 2\",\n",
    "        hover_cols=[\"class\"],\n",
    "        by=\"class\",\n",
    "    )\n"
   ]
  },
  {
   "cell_type": "code",
   "execution_count": null,
   "metadata": {},
   "outputs": [],
   "source": []
  },
  {
   "cell_type": "code",
   "execution_count": null,
   "metadata": {},
   "outputs": [],
   "source": [
    "import pandas as pd\n",
    "from sklearn.preprocessing import StandardScaler\n",
    "from sklearn.decomposition import PCA\n",
    "from sklearn.cluster import AgglomerativeClustering\n",
    "import hvplot.pandas\n",
    "\n",
    "import plotly.figure_factory as ff\n",
    "\n",
    "# Create the dendrogram\n",
    "fig = ff.create_dendrogram(df_prices_pca, color_threshold=0)\n",
    "fig.update_layout(width=800, height=500)\n",
    "fig.show()\n",
    "\n",
    "agg = AgglomerativeClustering(n_clusters=3)\n",
    "model = agg.fit(df_prices_pca)\n",
    "\n",
    "# Add the predicted class columns\n",
    "df_prices_pca[\"class\"] = model.labels_\n",
    "df_prices_pca.head()\n",
    "\n",
    "df_prices_pca.hvplot.scatter(\n",
    "        x=\"principal component 1\",\n",
    "        y=\"principal component 2\",\n",
    "        hover_cols=[\"class\"],\n",
    "        by=\"class\",\n",
    "    )"
   ]
  },
  {
   "cell_type": "code",
   "execution_count": null,
   "metadata": {},
   "outputs": [],
   "source": []
  }
 ],
 "metadata": {
  "kernelspec": {
   "display_name": "mlenv",
   "language": "python",
   "name": "mlenv"
  },
  "language_info": {
   "codemirror_mode": {
    "name": "ipython",
    "version": 3
   },
   "file_extension": ".py",
   "mimetype": "text/x-python",
   "name": "python",
   "nbconvert_exporter": "python",
   "pygments_lexer": "ipython3",
   "version": "3.7.7"
  }
 },
 "nbformat": 4,
 "nbformat_minor": 4
}
